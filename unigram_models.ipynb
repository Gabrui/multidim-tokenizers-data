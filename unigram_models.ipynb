{
 "cells": [
  {
   "cell_type": "markdown",
   "id": "b40d5df8-7a89-4c71-80d8-a1487884b8dd",
   "metadata": {},
   "source": [
    "# Unigram Models"
   ]
  },
  {
   "cell_type": "code",
   "execution_count": null,
   "id": "b96e25f7-bd06-4e7e-96f5-f65d11b1ba2d",
   "metadata": {},
   "outputs": [],
   "source": [
    "from pathlib import Path\n",
    "\n",
    "import numpy as np\n",
    "from tqdm import tqdm\n",
    "import tensorflow as tf\n",
    "import tensorflow_datasets as tfds"
   ]
  },
  {
   "cell_type": "code",
   "execution_count": null,
   "id": "0e60fc0c-3678-4060-8fc0-c8a2bd7e08f1",
   "metadata": {},
   "outputs": [],
   "source": [
    "@tf.function\n",
    "def count_tokens_dataset(ds, vocab_size):\n",
    "  counts_ds = ds.map(lambda x: tf.math.bincount(tf.cast(tf.reshape(x['story'], [-1]), tf.int32),\n",
    "                                                minlength=vocab_size, dtype=tf.int64))\n",
    "  total_counts = counts_ds.reduce(tf.zeros([vocab_size], dtype=tf.int64), lambda x, y: x + y)\n",
    "  return total_counts"
   ]
  },
  {
   "cell_type": "code",
   "execution_count": null,
   "id": "3517c6dc-4460-4de9-98b0-f603257abe1e",
   "metadata": {},
   "outputs": [],
   "source": [
    "Path('unigrams').mkdir(exist_ok=True)\n",
    "languages = ['arabic', 'azerbaijani', 'chinese', 'english', 'farsi', 'german', 'hebrew', 'hindi', 'korean', 'spanish', 'turkish', 'vietnamese']\n",
    "for lang in tqdm(languages):\n",
    "  for kind in ['vanilla', 'multi']:\n",
    "    name = f'tokenized/{lang}_{kind}:1.0.0'\n",
    "    vocab_size = 15000 if kind == 'vanilla' else 15_000 * 2 * 3\n",
    "    ds_builder = tfds.builder(name)\n",
    "    ds = ds_builder.as_dataset(split='train', batch_size=2**12)\n",
    "    counts = count_tokens_dataset(ds, vocab_size).numpy()\n",
    "    np.savetxt(f'unigrams/{lang}_{kind}.txt', counts, fmt='%d')"
   ]
  }
 ],
 "metadata": {
  "kernelspec": {
   "display_name": "Python 3 (ipykernel)",
   "language": "python",
   "name": "python3"
  },
  "language_info": {
   "codemirror_mode": {
    "name": "ipython",
    "version": 3
   },
   "file_extension": ".py",
   "mimetype": "text/x-python",
   "name": "python",
   "nbconvert_exporter": "python",
   "pygments_lexer": "ipython3",
   "version": "3.11.7"
  }
 },
 "nbformat": 4,
 "nbformat_minor": 5
}
