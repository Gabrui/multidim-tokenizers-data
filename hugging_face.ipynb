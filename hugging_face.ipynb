{
 "cells": [
  {
   "cell_type": "markdown",
   "id": "98cc669b-9e0b-4009-bdd0-225a1f252fab",
   "metadata": {},
   "source": [
    "# Multilingual TinyStories"
   ]
  },
  {
   "cell_type": "markdown",
   "id": "a0c739bd-653b-4672-bd90-9bc6f01c15bd",
   "metadata": {},
   "source": [
    "This notebook compiles the data from [https://huggingface.co/datasets/Gabrui/multilingual\\_TinyStories](https://huggingface.co/datasets/Gabrui/multilingual_TinyStories) sourced from the other repositories listed below.\n",
    "\n",
    "It is provided here for archival purposes only.\n",
    "\n",
    "\n",
    "We perform data cleaning, standardization, and amalgamation on the following repositories:\n",
    "\n",
    "- https://huggingface.co/datasets/roneneldan/TinyStories\n",
    "- https://huggingface.co/datasets/robrenaud/multilingual_tinystories\n",
    "- https://huggingface.co/datasets/52AI/TinyStoriesZh\n",
    "- https://huggingface.co/datasets/umarigan/tinystories_tr\n",
    "- https://huggingface.co/datasets/sboughorbel/tinystories_dataset_arabic\n",
    "- https://huggingface.co/datasets/nampdn-ai/tinystories-vietnamese\n",
    "- https://huggingface.co/datasets/marinowskiii/tiny-stories-aze\n",
    "- https://huggingface.co/datasets/g0ster/TinyStories-Korean\n",
    "- https://huggingface.co/datasets/SkySyrup/tinystories_german\n",
    "- https://huggingface.co/datasets/taesiri/TinyStories-Farsi\n",
    "- https://huggingface.co/datasets/vishnu2308/TinyStories-50k-Hindi\n",
    "- https://huggingface.co/datasets/Norod78/TinyStoriesV2-GPT4-valid_heb-lineByLine-EoT"
   ]
  },
  {
   "cell_type": "code",
   "execution_count": null,
   "id": "9b693d79-687b-4b5e-a113-d485ff58d7f2",
   "metadata": {},
   "outputs": [],
   "source": [
    "import io\n",
    "import re\n",
    "import json\n",
    "import pickle\n",
    "import tarfile\n",
    "import unicodedata\n",
    "from pathlib import Path\n",
    "from itertools import groupby\n",
    "from multiprocessing import Pool\n",
    "from collections import Counter, defaultdict, deque\n",
    "\n",
    "import requests\n",
    "import numpy as np\n",
    "import pandas as pd\n",
    "from tqdm import tqdm\n",
    "from matplotlib import pyplot as plt\n",
    "from datasets import load_dataset, Dataset, concatenate_datasets, load_from_disk"
   ]
  },
  {
   "cell_type": "code",
   "execution_count": null,
   "id": "80ffd710-93ff-482a-951e-d071784f9405",
   "metadata": {},
   "outputs": [],
   "source": [
    "data_path = Path('~/datasets/tinystories/').expanduser()\n",
    "N_PROCS = 16 # Processes spawn for preprocessing steps\n",
    "MAX_LEN = 200 # For locating indexes of counters\n",
    "\n",
    "grouping = {\n",
    "  \"e\": [\"é\"],\n",
    "  \"'\": [\"'\", \"‘\", \"’\", \"`\", \"´\"],\n",
    "  '\"': ['\"', '“', '”', '„', '«', '»'],\n",
    "  '-': [\"-\", \"–\", \"—\", \"−\", \"‑\", \"‐\"],\n",
    "  ' ': [\"\\xa0\", \"\\t\", \"\\u200b\", \"\\u200a\", \"\\u2009\", \"\\u2028\", \"\\u2029\", \"\\ufeff\", \"\\u3000\"],\n",
    "  '': ['\\xad']\n",
    "}\n",
    "translation_table = str.maketrans({v: k for k, vv in grouping.items() for v in vv})\n",
    "common_patterns = r'^[a-zA-Z0-9\\s!$%^&*()+\\-=;:\\'\",.?/]*$'\n",
    "\n",
    "def is_common(s):\n",
    "  return bool(re.match(common_patterns, s))\n",
    "\n",
    "def load_dataset_from_tar_gz(tar_gz_file, file_numbers=None):\n",
    "  pattern = re.compile(r'data(\\d+)\\.json')\n",
    "  memory_data = {}\n",
    "  with tarfile.open(tar_gz_file, 'r:gz') as tar:\n",
    "    for member in tqdm(tar.getmembers()):\n",
    "      if not member.isfile() or not member.name.endswith('.json'):\n",
    "        continue\n",
    "      filename = member.name.lstrip('./')\n",
    "      match = pattern.match(filename)\n",
    "      file_number = int(match.group(1))\n",
    "      if file_numbers is not None and file_number not in file_numbers:\n",
    "        continue\n",
    "      file_obj = tar.extractfile(member)\n",
    "      memory_data[filename] = Dataset.from_list(json.load(file_obj))\n",
    "  return concatenate_datasets([memory_data[k] for k in sorted(memory_data.keys())])\n",
    "\n",
    "def normalize(text):\n",
    "  return unicodedata.normalize('NFKC', text).translate(translation_table)\n",
    "\n",
    "def update_counters(counter, idxs, idx, data_list):\n",
    "  current_counter = Counter(data_list)\n",
    "  counter.update(current_counter)\n",
    "  for k in current_counter.keys():\n",
    "    idxs[k].append(idx)\n",
    "\n",
    "def examine_charset(samples, ids):\n",
    "  counter = Counter()\n",
    "  idxs = defaultdict(lambda: deque(maxlen=MAX_LEN))\n",
    "  for sample, id in zip(samples['story'], ids):\n",
    "    story = normalize(sample)\n",
    "    update_counters(counter, idxs, id, story)\n",
    "  return {'counter': [pickle.dumps(counter)], 'idxs': [pickle.dumps(dict(idxs))]}\n",
    "\n",
    "def merge_results(dataset):\n",
    "  counter = Counter()\n",
    "  idxs = defaultdict(list)\n",
    "  for cnt, idx in zip(dataset['counter'], dataset['idxs']):\n",
    "    cnt, idx = pickle.loads(cnt), pickle.loads(idx)\n",
    "    counter.update(cnt)\n",
    "    for k, v in idx.items():\n",
    "      idxs[k].extend(v)\n",
    "  return counter, idxs\n",
    "\n",
    "def show_stories(char, char_cnt, char_whe, dataset):\n",
    "  print(char_cnt[char])\n",
    "  for i in char_whe[char][:10]:\n",
    "    print(dataset[i]['story'], end='\\n\\n-----------------\\n\\n')\n",
    "\n",
    "def concatenate_sections(data):\n",
    "  groups = [list(group) for k, group in groupby(data, lambda x: x == '<|endoftext|>') if not k]\n",
    "  stories = [' '.join(filter(None, group)) for group in groups]\n",
    "  return Dataset.from_dict({'story': stories})\n",
    "\n",
    "def frac_split(qtd):\n",
    "   return (qtd**0.6*15) / qtd"
   ]
  },
  {
   "cell_type": "markdown",
   "id": "d13ddae5-e219-4c0c-acc9-26d076e4aaf0",
   "metadata": {
    "jp-MarkdownHeadingCollapsed": true
   },
   "source": [
    "## English"
   ]
  },
  {
   "cell_type": "code",
   "execution_count": null,
   "id": "52f4dfda-3ab0-40e6-bd97-93ce2f92c00c",
   "metadata": {},
   "outputs": [],
   "source": [
    "# !wget https://huggingface.co/datasets/roneneldan/TinyStories/resolve/main/TinyStories_all_data.tar.gz -P ~/datasets/tinystories/"
   ]
  },
  {
   "cell_type": "code",
   "execution_count": null,
   "id": "9cd692ee-85ed-4ba5-b76c-e8ee9b0d14c5",
   "metadata": {},
   "outputs": [],
   "source": [
    "try:\n",
    "  all_english_data = load_from_disk(data_path / 'english')\n",
    "except FileNotFoundError:\n",
    "  all_english_data = load_dataset_from_tar_gz(data_path / 'TinyStories_all_data.tar.gz')\n",
    "  all_english_data.save_to_disk(data_path / 'english')"
   ]
  },
  {
   "cell_type": "code",
   "execution_count": null,
   "id": "699f65d1-9922-4efd-a2c5-40f4d0180ec1",
   "metadata": {},
   "outputs": [],
   "source": [
    "gpt4_english = all_english_data.filter(lambda s: s['source']=='GPT-4', keep_in_memory=True, num_proc=N_PROCS)"
   ]
  },
  {
   "cell_type": "code",
   "execution_count": null,
   "id": "46fd6402-5e31-450e-a291-c8557ea25a81",
   "metadata": {
    "scrolled": true
   },
   "outputs": [],
   "source": [
    "char_cnt, char_whe = merge_results(gpt4_english.select_columns('story').map(examine_charset,\n",
    "              with_indices=True, batched=True, batch_size=20_000, num_proc=16, keep_in_memory=True, remove_columns='story'))"
   ]
  },
  {
   "cell_type": "code",
   "execution_count": null,
   "id": "e1709103-4c50-41d4-8868-72bff642eba4",
   "metadata": {
    "scrolled": true
   },
   "outputs": [],
   "source": [
    "char_cnt"
   ]
  },
  {
   "cell_type": "code",
   "execution_count": null,
   "id": "fd21f60d-4fb5-42c9-9a2b-afd8e0cae844",
   "metadata": {
    "scrolled": true
   },
   "outputs": [],
   "source": [
    "c = '#'\n",
    "print(char_cnt[c])\n",
    "for i in char_whe[c][:10]:\n",
    "  print(gpt4_english[i]['story'], end='\\n\\n-----------------\\n\\n')\n",
    "\n",
    "# {k: unicodedata.name(k, '') for k in char_cnt.keys()}"
   ]
  },
  {
   "cell_type": "code",
   "execution_count": null,
   "id": "89255189-2636-4419-85ec-f531808fcea0",
   "metadata": {
    "scrolled": true
   },
   "outputs": [],
   "source": [
    "excluded_idx = set()\n",
    "for char, ctn in char_cnt.items():\n",
    "  if ctn < 200 and not is_common(char):\n",
    "    excluded_idx.update(char_whe[char])\n",
    "len(excluded_idx)"
   ]
  },
  {
   "cell_type": "code",
   "execution_count": null,
   "id": "4bcc53ed-3b0d-46db-8df5-0ce7787b5a48",
   "metadata": {},
   "outputs": [],
   "source": [
    "english_clean = gpt4_english.select_columns('story').map(\n",
    "              lambda stories, ids: {'story': [normalize(s) for s, id in zip(stories, ids) if id not in excluded_idx]},\n",
    "              input_columns='story', with_indices=True, batched=True, num_proc=16, new_fingerprint='english_clean')"
   ]
  },
  {
   "cell_type": "code",
   "execution_count": null,
   "id": "6ff0ada9-b0f5-443c-ae53-be0a2ad65c3c",
   "metadata": {},
   "outputs": [],
   "source": [
    "char_cnt2, char_whe2 = merge_results(english_clean.map(examine_charset,\n",
    "              with_indices=True, batched=True, batch_size=20_000, num_proc=16, keep_in_memory=True, remove_columns='story'))"
   ]
  },
  {
   "cell_type": "code",
   "execution_count": null,
   "id": "ddf4866a-76e1-4124-b9fc-e0172b482d92",
   "metadata": {
    "scrolled": true
   },
   "outputs": [],
   "source": [
    "char_cnt2"
   ]
  },
  {
   "cell_type": "code",
   "execution_count": null,
   "id": "e9f632b0-9cbe-4104-b56b-4544e97368ee",
   "metadata": {},
   "outputs": [],
   "source": [
    "df = pd.DataFrame(english_clean)\n",
    "df_deduplicated = df.drop_duplicates(subset='story')\n",
    "# assert len(df_deduplicated) == len(df)\n",
    "english_clean = Dataset.from_pandas(df_deduplicated).select_columns('story')\n",
    "del df\n",
    "del df_deduplicated"
   ]
  },
  {
   "cell_type": "code",
   "execution_count": null,
   "id": "2d76ebdc-17d2-405d-88e0-8bcaca1e17f4",
   "metadata": {},
   "outputs": [],
   "source": [
    "english_clean.save_to_disk(data_path / 'english_clean')"
   ]
  },
  {
   "cell_type": "markdown",
   "id": "66f4c34b-0f66-4359-9369-54f153079960",
   "metadata": {
    "jp-MarkdownHeadingCollapsed": true
   },
   "source": [
    "## Spanish"
   ]
  },
  {
   "cell_type": "code",
   "execution_count": null,
   "id": "772fd557-5fc7-4718-b80c-11a5055bd36d",
   "metadata": {},
   "outputs": [],
   "source": [
    "spanish_data = load_dataset('robrenaud/multilingual_tinystories', revision=\"refs/convert/parquet\", cache_dir=str(data_path / 'cache'))"
   ]
  },
  {
   "cell_type": "code",
   "execution_count": null,
   "id": "95894b2e-7376-44ec-8d61-ce6199a413c4",
   "metadata": {},
   "outputs": [],
   "source": [
    "char_cnt, char_whe = merge_results(spanish_data['train'].select_columns('story').map(examine_charset,\n",
    "              with_indices=True, batched=True, batch_size=20_000, num_proc=16, keep_in_memory=True, remove_columns='story'))"
   ]
  },
  {
   "cell_type": "code",
   "execution_count": null,
   "id": "53f1e295-c823-4ca8-9e6f-e46caceb4e01",
   "metadata": {
    "scrolled": true
   },
   "outputs": [],
   "source": [
    "char_cnt\n",
    "# {k: unicodedata.category(k) for k in char_cnt.keys()} # {k: unicodedata.name(k, '') for k in char_cnt.keys()}"
   ]
  },
  {
   "cell_type": "code",
   "execution_count": null,
   "id": "9ce4227d-6d02-4b7b-9f6b-a9ff1847c3e9",
   "metadata": {
    "scrolled": true
   },
   "outputs": [],
   "source": [
    "show_stories('л', char_cnt, char_whe, spanish_data['train'])"
   ]
  },
  {
   "cell_type": "code",
   "execution_count": null,
   "id": "0ef15253-1fac-48a6-b6ce-8719f191923f",
   "metadata": {},
   "outputs": [],
   "source": [
    "excluded_idx = set()\n",
    "for char, ctn in char_cnt.items():\n",
    "  if ctn < 200 and not is_common(char):\n",
    "    excluded_idx.update(char_whe[char])\n",
    "len(excluded_idx)"
   ]
  },
  {
   "cell_type": "code",
   "execution_count": null,
   "id": "f64cf659-2cfe-4cc7-b35c-a993da86c03f",
   "metadata": {},
   "outputs": [],
   "source": [
    "spanish_clean = spanish_data['train'].select_columns('story').map(\n",
    "              lambda stories, ids: {'story': [normalize(s) for s, id in zip(stories, ids) if id not in excluded_idx]},\n",
    "              input_columns='story', with_indices=True, batched=True, num_proc=16, new_fingerprint='spanish_clean')"
   ]
  },
  {
   "cell_type": "code",
   "execution_count": null,
   "id": "4cb4da7d-cbf5-4da5-ae40-5fb06c67a3b9",
   "metadata": {},
   "outputs": [],
   "source": [
    "spanish_clean.save_to_disk(data_path / 'spanish_clean')"
   ]
  },
  {
   "cell_type": "code",
   "execution_count": null,
   "id": "7056be53-18ee-4f71-82dc-cd90a052989d",
   "metadata": {},
   "outputs": [],
   "source": [
    "# df = pd.DataFrame(spanish_clean)\n",
    "# df_deduplicated = df.drop_duplicates(subset='story')\n",
    "# assert len(df_deduplicated) == len(df)\n",
    "# del df\n",
    "# del df_deduplicated"
   ]
  },
  {
   "cell_type": "markdown",
   "id": "544c6062-a079-4b6b-b02b-2003ff3f83ee",
   "metadata": {
    "jp-MarkdownHeadingCollapsed": true
   },
   "source": [
    "## Chinese"
   ]
  },
  {
   "cell_type": "code",
   "execution_count": null,
   "id": "000c937a-40f9-45b2-bc93-081f4696188f",
   "metadata": {
    "scrolled": true
   },
   "outputs": [],
   "source": [
    "!wget https://huggingface.co/datasets/52AI/TinyStoriesZh/resolve/main/TinyStories_all_data_zh_1M.tar.gz -P $data_path\n",
    "!wget https://huggingface.co/datasets/52AI/TinyStoriesZh/resolve/main/TinyStories_all_data_zh_2M.tar.gz -P $data_path"
   ]
  },
  {
   "cell_type": "code",
   "execution_count": null,
   "id": "57d15cdd-c24b-44d5-bfcd-6eb691f21e57",
   "metadata": {},
   "outputs": [],
   "source": [
    "all_chinese_data = concatenate_datasets([load_dataset_from_tar_gz(data_path / 'TinyStories_all_data_zh_1M.tar.gz'),\n",
    "                                         load_dataset_from_tar_gz(data_path / 'TinyStories_all_data_zh_2M.tar.gz')])\n",
    "all_chinese_data.save_to_disk(data_path / 'chinese')\n",
    "all_chinese_data = load_from_disk(data_path / 'chinese')"
   ]
  },
  {
   "cell_type": "code",
   "execution_count": null,
   "id": "8a230dec-6071-4198-b453-f938a090bf5d",
   "metadata": {},
   "outputs": [],
   "source": [
    "char_cnt, char_whe = merge_results(all_chinese_data.select_columns('story').map(examine_charset,\n",
    "              with_indices=True, batched=True, batch_size=20_000, num_proc=16, keep_in_memory=True, remove_columns='story'))"
   ]
  },
  {
   "cell_type": "code",
   "execution_count": null,
   "id": "a17d2ce1-0e9d-4896-9fa6-5c11649432ff",
   "metadata": {
    "scrolled": true
   },
   "outputs": [],
   "source": [
    "# char_cnt.most_common()[-300:]"
   ]
  },
  {
   "cell_type": "code",
   "execution_count": null,
   "id": "69828b9e-9fe8-42ca-8025-67d8f9240a37",
   "metadata": {},
   "outputs": [],
   "source": [
    "excluded_idx = set()\n",
    "for char, ctn in char_cnt.items():\n",
    "  if ctn < 100 and not is_common(char):\n",
    "    excluded_idx.update(char_whe[char])\n",
    "len(excluded_idx)"
   ]
  },
  {
   "cell_type": "code",
   "execution_count": null,
   "id": "9103b8b8-80ae-46c8-9b3a-abdca96d9400",
   "metadata": {},
   "outputs": [],
   "source": [
    "chinese_clean = all_chinese_data.select_columns('story').map(\n",
    "              lambda stories, ids: {'story': [normalize(s) for s, id in zip(stories, ids) if id not in excluded_idx]},\n",
    "              input_columns='story', with_indices=True, batched=True, num_proc=16, new_fingerprint='chinese_clean')"
   ]
  },
  {
   "cell_type": "code",
   "execution_count": null,
   "id": "06e26e56-f20b-48fe-9449-03f23f1ed786",
   "metadata": {},
   "outputs": [],
   "source": [
    "df = pd.DataFrame(chinese_clean)\n",
    "df_deduplicated = df.drop_duplicates(subset='story')\n",
    "print(len(df) - len(df_deduplicated))\n",
    "chinese_clean = Dataset.from_pandas(df_deduplicated).select_columns('story')\n",
    "del df\n",
    "del df_deduplicated"
   ]
  },
  {
   "cell_type": "code",
   "execution_count": null,
   "id": "f975d03c-8240-44a6-a815-101e45bd851e",
   "metadata": {},
   "outputs": [],
   "source": [
    "chinese_clean.save_to_disk(data_path / 'chinese_clean')"
   ]
  },
  {
   "cell_type": "markdown",
   "id": "89ab4204-b2eb-4edd-8947-588658db18c0",
   "metadata": {
    "jp-MarkdownHeadingCollapsed": true
   },
   "source": [
    "## Turkish"
   ]
  },
  {
   "cell_type": "code",
   "execution_count": null,
   "id": "09c21d4a-a1e3-47a2-bc47-594151d4c709",
   "metadata": {},
   "outputs": [],
   "source": [
    "turkish_data = load_dataset('umarigan/tinystories_tr', cache_dir=str(data_path / 'cache'))"
   ]
  },
  {
   "cell_type": "code",
   "execution_count": null,
   "id": "a198d4a0-e204-48da-8b7e-aefb90ebbb8f",
   "metadata": {},
   "outputs": [],
   "source": [
    "char_cnt, char_whe = merge_results(turkish_data['train'].rename_column(\"text\", \"story\").map(examine_charset,\n",
    "              with_indices=True, batched=True, batch_size=20_000, num_proc=16, keep_in_memory=True, remove_columns='story'))"
   ]
  },
  {
   "cell_type": "code",
   "execution_count": null,
   "id": "e4529aba-6af7-42c5-ac0c-e4ab4de99667",
   "metadata": {
    "scrolled": true
   },
   "outputs": [],
   "source": [
    "char_cnt"
   ]
  },
  {
   "cell_type": "code",
   "execution_count": null,
   "id": "d9153a50-cb33-466e-b2ca-0a58a3a601a9",
   "metadata": {},
   "outputs": [],
   "source": [
    "excluded_idx = set()\n",
    "for char, ctn in char_cnt.items():\n",
    "  if ctn < 80 and not is_common(char):\n",
    "    excluded_idx.update(char_whe[char])\n",
    "len(excluded_idx)"
   ]
  },
  {
   "cell_type": "code",
   "execution_count": null,
   "id": "179cc06a-e1d2-4da3-923f-a4c79b622cfb",
   "metadata": {},
   "outputs": [],
   "source": [
    "turkish_clean = turkish_data['train'].rename_column(\"text\", \"story\").map(\n",
    "              lambda stories, ids: {'story': [normalize(s) for s, id in zip(stories, ids) if id not in excluded_idx]},\n",
    "              input_columns='story', with_indices=True, batched=True, num_proc=16, new_fingerprint='turkish_clean')"
   ]
  },
  {
   "cell_type": "code",
   "execution_count": null,
   "id": "93c6e92d-988e-4ba6-ada6-aa7f81e48b9c",
   "metadata": {},
   "outputs": [],
   "source": [
    "df = pd.DataFrame(turkish_clean)\n",
    "df_deduplicated = df.drop_duplicates(subset='story')\n",
    "print(len(df) - len(df_deduplicated))\n",
    "turkish_clean = Dataset.from_pandas(df_deduplicated).select_columns('story')\n",
    "del df\n",
    "del df_deduplicated"
   ]
  },
  {
   "cell_type": "code",
   "execution_count": null,
   "id": "eb74373a-4b27-4803-918b-d410c3db22e3",
   "metadata": {},
   "outputs": [],
   "source": [
    "turkish_clean.save_to_disk(data_path / 'turkish_clean')"
   ]
  },
  {
   "cell_type": "markdown",
   "id": "66e8391d-9273-4314-a1ed-893f41d84f6f",
   "metadata": {
    "jp-MarkdownHeadingCollapsed": true
   },
   "source": [
    "## Arabic"
   ]
  },
  {
   "cell_type": "code",
   "execution_count": null,
   "id": "b402ca0e-ade9-47e9-b966-5a78404b3dd0",
   "metadata": {},
   "outputs": [],
   "source": [
    "arabic_data = load_dataset('sboughorbel/tinystories_dataset_arabic', revision=\"refs/convert/parquet\", cache_dir=str(data_path / 'cache'))"
   ]
  },
  {
   "cell_type": "code",
   "execution_count": null,
   "id": "0054d7a3-abc7-431b-86f9-34de2b8e5d8c",
   "metadata": {},
   "outputs": [],
   "source": [
    "char_cnt, char_whe = merge_results(arabic_data['train'].rename_column(\"translation\", \"story\").select_columns(\"story\").map(examine_charset,\n",
    "              with_indices=True, batched=True, batch_size=20_000, num_proc=16, keep_in_memory=True, remove_columns='story'))"
   ]
  },
  {
   "cell_type": "code",
   "execution_count": null,
   "id": "c39a7fc1-69e8-4551-a493-a7accebffe3c",
   "metadata": {
    "scrolled": true
   },
   "outputs": [],
   "source": [
    "{k: (v, unicodedata.name(k, ''), ord(k)) for k, v in char_cnt.most_common()}"
   ]
  },
  {
   "cell_type": "code",
   "execution_count": null,
   "id": "5aa68d12-d7bc-459f-b5c9-9c50a51e3dab",
   "metadata": {},
   "outputs": [],
   "source": [
    "excluded_idx = set()\n",
    "for char, ctn in char_cnt.items():\n",
    "  if ctn < 100 and not is_common(char):\n",
    "    excluded_idx.update(char_whe[char])\n",
    "len(excluded_idx)"
   ]
  },
  {
   "cell_type": "code",
   "execution_count": null,
   "id": "4239bc78-17e3-427c-96b3-d138f64e7f22",
   "metadata": {},
   "outputs": [],
   "source": [
    "arabic_clean = arabic_data['train'].rename_column(\"translation\", \"story\").select_columns(\"story\").map(\n",
    "              lambda stories, ids: {'story': [normalize(s) for s, id in zip(stories, ids) if id not in excluded_idx]},\n",
    "              input_columns='story', with_indices=True, batched=True, num_proc=16, new_fingerprint='arabic_clean')"
   ]
  },
  {
   "cell_type": "code",
   "execution_count": null,
   "id": "8aa73e9e-7ede-4ac5-93bd-0e5dc3e1cccf",
   "metadata": {},
   "outputs": [],
   "source": [
    "df = pd.DataFrame(arabic_clean).drop_duplicates(subset='story', inplace=True)\n",
    "print(len(arabic_clean) - len(df))\n",
    "arabic_clean = Dataset.from_pandas(df).select_columns('story')\n",
    "del df\n",
    "del df_deduplicated"
   ]
  },
  {
   "cell_type": "code",
   "execution_count": null,
   "id": "34116f86-0c40-4d3d-8a08-94a66180149a",
   "metadata": {},
   "outputs": [],
   "source": [
    "arabic_clean.save_to_disk(data_path / 'arabic_clean')"
   ]
  },
  {
   "cell_type": "markdown",
   "id": "08d941ce-33e5-4833-a814-b9a38de702d5",
   "metadata": {
    "jp-MarkdownHeadingCollapsed": true
   },
   "source": [
    "## Vietnamese"
   ]
  },
  {
   "cell_type": "code",
   "execution_count": null,
   "id": "5619f0ea-4c83-49cd-982e-e73c7b277b1f",
   "metadata": {},
   "outputs": [],
   "source": [
    "vietnamese_data = load_dataset('nampdn-ai/tinystories-vietnamese', cache_dir=str(data_path / 'cache'))"
   ]
  },
  {
   "cell_type": "code",
   "execution_count": null,
   "id": "9da773fc-aa8a-4d7f-affa-e2ab1d4d7875",
   "metadata": {},
   "outputs": [],
   "source": [
    "char_cnt, char_whe = merge_results(vietnamese_data['train'].rename_column(\"vi\", \"story\").select_columns(\"story\").map(examine_charset,\n",
    "              with_indices=True, batched=True, batch_size=20_000, num_proc=16, keep_in_memory=True, remove_columns='story'))"
   ]
  },
  {
   "cell_type": "code",
   "execution_count": null,
   "id": "b5f07100-fc63-4f87-9d23-e6bf3eb67720",
   "metadata": {
    "scrolled": true
   },
   "outputs": [],
   "source": [
    "{k: (v, unicodedata.name(k, ''), ord(k)) for k, v in char_cnt.most_common()}"
   ]
  },
  {
   "cell_type": "code",
   "execution_count": null,
   "id": "fd622b32-7db1-4ae0-a3f0-1fe8ec6ec748",
   "metadata": {},
   "outputs": [],
   "source": [
    "excluded_idx = set()\n",
    "for char, ctn in char_cnt.items():\n",
    "  if ctn < 100 and not is_common(char):\n",
    "    excluded_idx.update(char_whe[char])\n",
    "len(excluded_idx)"
   ]
  },
  {
   "cell_type": "code",
   "execution_count": null,
   "id": "85717d39-94bc-4f3b-8245-807f834922ac",
   "metadata": {},
   "outputs": [],
   "source": [
    "vietnamese_clean = vietnamese_data['train'].rename_column(\"vi\", \"story\").select_columns(\"story\").map(\n",
    "              lambda stories, ids: {'story': [normalize(s) for s, id in zip(stories, ids) if id not in excluded_idx]},\n",
    "              input_columns='story', with_indices=True, batched=True, num_proc=16, new_fingerprint='vietnamese_clean')"
   ]
  },
  {
   "cell_type": "code",
   "execution_count": null,
   "id": "b7d7fa38-c8a4-4c2f-a09b-a816ee0d0099",
   "metadata": {},
   "outputs": [],
   "source": [
    "df = pd.DataFrame(vietnamese_clean)\n",
    "df.drop_duplicates(subset='story', inplace=True)\n",
    "print(len(vietnamese_clean) - len(df))\n",
    "vietnamese_clean = Dataset.from_pandas(df).select_columns('story')\n",
    "del df"
   ]
  },
  {
   "cell_type": "code",
   "execution_count": null,
   "id": "8f339373-c9ae-44eb-82b3-01be61b7ed27",
   "metadata": {},
   "outputs": [],
   "source": [
    "vietnamese_clean.save_to_disk(data_path / 'vietnamese_clean')"
   ]
  },
  {
   "cell_type": "markdown",
   "id": "14dd9ae1-cb2c-4269-a6a4-6625016050f9",
   "metadata": {
    "jp-MarkdownHeadingCollapsed": true
   },
   "source": [
    "## Azerbaijani"
   ]
  },
  {
   "cell_type": "code",
   "execution_count": null,
   "id": "171f8b05-fe88-4f7a-80ef-972f3a13de24",
   "metadata": {},
   "outputs": [],
   "source": [
    "azerbaijani_data = load_dataset('marinowskiii/tiny-stories-aze', cache_dir=str(data_path / 'cache'))"
   ]
  },
  {
   "cell_type": "code",
   "execution_count": null,
   "id": "2e2e67b0-b0aa-45d1-bc54-738c00ebae1f",
   "metadata": {},
   "outputs": [],
   "source": [
    "char_cnt, char_whe = merge_results(azerbaijani_data['train'].rename_column(\"text\", \"story\").select_columns(\"story\").map(examine_charset,\n",
    "              with_indices=True, batched=True, batch_size=20_000, num_proc=16, keep_in_memory=True, remove_columns='story'))"
   ]
  },
  {
   "cell_type": "code",
   "execution_count": null,
   "id": "90da2e7a-8c53-4df8-8fb1-8572a89afb4b",
   "metadata": {
    "scrolled": true
   },
   "outputs": [],
   "source": [
    "{k: (v, unicodedata.name(k, ''), ord(k)) for k, v in char_cnt.most_common()}"
   ]
  },
  {
   "cell_type": "code",
   "execution_count": null,
   "id": "c98a033d-39b4-482f-972c-4df518082896",
   "metadata": {},
   "outputs": [],
   "source": [
    "excluded_idx = set()\n",
    "for char, ctn in char_cnt.items():\n",
    "  if ctn < 100 and not is_common(char):\n",
    "    excluded_idx.update(char_whe[char])\n",
    "len(excluded_idx)"
   ]
  },
  {
   "cell_type": "code",
   "execution_count": null,
   "id": "6c2f611f-58e0-4e3b-af78-78f49178d990",
   "metadata": {},
   "outputs": [],
   "source": [
    "azerbaijani_clean = azerbaijani_data['train'].rename_column(\"text\", \"story\").select_columns(\"story\").map(\n",
    "              lambda stories, ids: {'story': [normalize(s) for s, id in zip(stories, ids) if id not in excluded_idx]},\n",
    "              input_columns='story', with_indices=True, batched=True, num_proc=16, new_fingerprint='azerbaijani_clean')"
   ]
  },
  {
   "cell_type": "code",
   "execution_count": null,
   "id": "2b50ece1-0e56-4483-8ab9-63e65e0594e7",
   "metadata": {},
   "outputs": [],
   "source": [
    "df = pd.DataFrame(azerbaijani_clean)\n",
    "df.drop_duplicates(subset='story', inplace=True)\n",
    "print(len(azerbaijani_clean) - len(df))\n",
    "azerbaijani_clean = Dataset.from_pandas(df).select_columns('story')\n",
    "del df"
   ]
  },
  {
   "cell_type": "code",
   "execution_count": null,
   "id": "286dbfb9-e55c-47a1-9036-97de3329c7ff",
   "metadata": {},
   "outputs": [],
   "source": [
    "azerbaijani_clean.save_to_disk(data_path / 'azerbaijani_clean')"
   ]
  },
  {
   "cell_type": "markdown",
   "id": "954225c5-9922-4222-9b12-89bef8092d31",
   "metadata": {
    "jp-MarkdownHeadingCollapsed": true
   },
   "source": [
    "## Korean"
   ]
  },
  {
   "cell_type": "code",
   "execution_count": null,
   "id": "2b682d69-aea4-43c9-ad2a-0a031fc52223",
   "metadata": {},
   "outputs": [],
   "source": [
    "korean_data = load_dataset('g0ster/TinyStories-Korean', revision=\"refs/convert/parquet\", cache_dir=str(data_path / 'cache'))"
   ]
  },
  {
   "cell_type": "code",
   "execution_count": null,
   "id": "c1ab2c36-b464-4743-b6fe-cee6f9c79d57",
   "metadata": {},
   "outputs": [],
   "source": [
    "korean_data = concatenate_datasets([concatenate_sections(korean_data['train']['text']),\n",
    "                                    concatenate_sections(korean_data['validation']['text'])])"
   ]
  },
  {
   "cell_type": "code",
   "execution_count": null,
   "id": "ec8002c4-a419-4562-9925-1bd790ba826d",
   "metadata": {},
   "outputs": [],
   "source": [
    "korean_data.save_to_disk(data_path / 'korean')"
   ]
  },
  {
   "cell_type": "code",
   "execution_count": null,
   "id": "deef391e-08dd-4c36-af73-47cbeaeaef8d",
   "metadata": {},
   "outputs": [],
   "source": [
    "korean_data = load_from_disk(data_path / 'korean')"
   ]
  },
  {
   "cell_type": "code",
   "execution_count": null,
   "id": "711c36fd-ccc4-4817-b748-b294655886a7",
   "metadata": {},
   "outputs": [],
   "source": [
    "char_cnt, char_whe = merge_results(korean_data.select_columns(\"story\").map(examine_charset,\n",
    "              with_indices=True, batched=True, batch_size=20_000, num_proc=16, keep_in_memory=True, remove_columns='story'))"
   ]
  },
  {
   "cell_type": "code",
   "execution_count": null,
   "id": "b621dc95-6464-44d2-8b57-fececde943b2",
   "metadata": {
    "scrolled": true
   },
   "outputs": [],
   "source": [
    "{k: (v, unicodedata.name(k, ''), ord(k)) for k, v in char_cnt.most_common()[-900:]}"
   ]
  },
  {
   "cell_type": "code",
   "execution_count": null,
   "id": "0eb8d4c0-29e3-48d8-90d9-41ab55247b64",
   "metadata": {},
   "outputs": [],
   "source": [
    "excluded_idx = set()\n",
    "for char, ctn in char_cnt.items():\n",
    "  if ctn < 55 and not is_common(char):\n",
    "    excluded_idx.update(char_whe[char])\n",
    "len(excluded_idx)"
   ]
  },
  {
   "cell_type": "code",
   "execution_count": null,
   "id": "d937faed-6106-4091-bdb2-c80f036f79cb",
   "metadata": {},
   "outputs": [],
   "source": [
    "korean_clean = korean_data.select_columns(\"story\").map(\n",
    "              lambda stories, ids: {'story': [normalize(s) for s, id in zip(stories, ids) if id not in excluded_idx]},\n",
    "              input_columns='story', with_indices=True, batched=True, num_proc=16, new_fingerprint='korean_clean')"
   ]
  },
  {
   "cell_type": "code",
   "execution_count": null,
   "id": "1119c3e6-9cee-45f8-adca-e030721e1ed9",
   "metadata": {},
   "outputs": [],
   "source": [
    "df = pd.DataFrame(korean_clean)\n",
    "df.drop_duplicates(subset='story', inplace=True)\n",
    "print(len(korean_clean) - len(df))\n",
    "korean_clean = Dataset.from_pandas(df).select_columns('story')\n",
    "del df"
   ]
  },
  {
   "cell_type": "code",
   "execution_count": null,
   "id": "1647e838-a03b-403d-ac83-19e3a9f03df8",
   "metadata": {},
   "outputs": [],
   "source": [
    "korean_clean.save_to_disk(data_path / 'korean_clean')"
   ]
  },
  {
   "cell_type": "markdown",
   "id": "76f997b9-790d-46b7-8bd2-775f93dd7074",
   "metadata": {
    "jp-MarkdownHeadingCollapsed": true
   },
   "source": [
    "## German"
   ]
  },
  {
   "cell_type": "code",
   "execution_count": null,
   "id": "bba09680-38df-4b4b-93a6-1675917adb5e",
   "metadata": {
    "scrolled": true
   },
   "outputs": [],
   "source": [
    "!wget https://huggingface.co/datasets/SkySyrup/tinystories_german/resolve/main/german_GEMINI_async-combined -P $data_path"
   ]
  },
  {
   "cell_type": "code",
   "execution_count": null,
   "id": "e8834b1d-a0b8-44c0-87f1-2473b9724e6f",
   "metadata": {},
   "outputs": [],
   "source": [
    "german_data_trans = load_dataset('SkySyrup/tinystories_german', revision=\"refs/convert/parquet\", cache_dir=str(data_path / 'cache'))"
   ]
  },
  {
   "cell_type": "code",
   "execution_count": null,
   "id": "adbc0c85-e115-45f9-bd20-b596192fc5fb",
   "metadata": {},
   "outputs": [],
   "source": [
    "with (data_path/'german_GEMINI_async-combined').open('r') as f:\n",
    "  german_data = concatenate_sections([line.strip() for line in f])"
   ]
  },
  {
   "cell_type": "code",
   "execution_count": null,
   "id": "d7dc93d0-6b62-4d13-8200-64a58880984a",
   "metadata": {},
   "outputs": [],
   "source": [
    "german_data = concatenate_datasets([german_data, concatenate_sections(german_data_trans['train']['text'])])"
   ]
  },
  {
   "cell_type": "code",
   "execution_count": null,
   "id": "06459a7a-31b7-4b3b-8a47-1a76228be4d3",
   "metadata": {},
   "outputs": [],
   "source": [
    "char_cnt, char_whe = merge_results(german_data.select_columns(\"story\").map(examine_charset,\n",
    "              with_indices=True, batched=True, batch_size=20_000, num_proc=16, keep_in_memory=True, remove_columns='story'))"
   ]
  },
  {
   "cell_type": "code",
   "execution_count": null,
   "id": "7ca46cb7-9c29-4185-9ddf-9f027ae9c41e",
   "metadata": {
    "scrolled": true
   },
   "outputs": [],
   "source": [
    "{k: (v, unicodedata.name(k, ''), ord(k)) for k, v in char_cnt.most_common()}"
   ]
  },
  {
   "cell_type": "code",
   "execution_count": null,
   "id": "eb85a315-840e-4c3a-b885-245638adb4f1",
   "metadata": {},
   "outputs": [],
   "source": [
    "excluded_idx = set()\n",
    "for char, ctn in char_cnt.items():\n",
    "  if ctn < 410 and not is_common(char):\n",
    "    excluded_idx.update(char_whe[char])\n",
    "len(excluded_idx)"
   ]
  },
  {
   "cell_type": "code",
   "execution_count": null,
   "id": "de8fb348-2b42-47d9-b5ad-fee6cfe1cd70",
   "metadata": {},
   "outputs": [],
   "source": [
    "german_clean = german_data.select_columns(\"story\").map(\n",
    "              lambda stories, ids: {'story': [normalize(s) for s, id in zip(stories, ids) if id not in excluded_idx]},\n",
    "              input_columns='story', with_indices=True, batched=True, num_proc=16, new_fingerprint='german_clean')"
   ]
  },
  {
   "cell_type": "code",
   "execution_count": null,
   "id": "d5835745-8bbc-4d9f-ada9-e3b784b13368",
   "metadata": {},
   "outputs": [],
   "source": [
    "df = pd.DataFrame(german_clean)\n",
    "df.drop_duplicates(subset='story', inplace=True)\n",
    "print(len(german_clean) - len(df))\n",
    "german_clean = Dataset.from_pandas(df).select_columns('story')\n",
    "del df"
   ]
  },
  {
   "cell_type": "code",
   "execution_count": null,
   "id": "bd4f42bb-3663-439d-88b3-0f0bc85a45f9",
   "metadata": {},
   "outputs": [],
   "source": [
    "german_clean.save_to_disk(data_path / 'german_clean')"
   ]
  },
  {
   "cell_type": "markdown",
   "id": "5d5a1d24-54a2-474f-863a-200f9f2250c2",
   "metadata": {
    "jp-MarkdownHeadingCollapsed": true
   },
   "source": [
    "## Farsi"
   ]
  },
  {
   "cell_type": "code",
   "execution_count": null,
   "id": "2bddf4c2-6a3c-4af2-87e7-2e245d584c00",
   "metadata": {},
   "outputs": [],
   "source": [
    "farsi_data = load_dataset('taesiri/TinyStories-Farsi', revision=\"refs/convert/parquet\", cache_dir=str(data_path / 'cache'))\n",
    "farsi_data = concatenate_datasets([farsi_data['train'], farsi_data['validation']])\n",
    "farsi_data = farsi_data.select_columns('Persian').rename_column('Persian', 'story')"
   ]
  },
  {
   "cell_type": "code",
   "execution_count": null,
   "id": "384aa86e-84bb-4b91-bd30-f7a2db367d76",
   "metadata": {},
   "outputs": [],
   "source": [
    "char_cnt, char_whe = merge_results(farsi_data.select_columns(\"story\").map(examine_charset,\n",
    "              with_indices=True, batched=True, batch_size=20_000, num_proc=16, keep_in_memory=True, remove_columns='story'))"
   ]
  },
  {
   "cell_type": "code",
   "execution_count": null,
   "id": "9e83b464-f2b2-4f67-adf4-fb264cb91d64",
   "metadata": {
    "scrolled": true
   },
   "outputs": [],
   "source": [
    "{k: (v, unicodedata.name(k, ''), ord(k)) for k, v in char_cnt.most_common()}"
   ]
  },
  {
   "cell_type": "code",
   "execution_count": null,
   "id": "696f8698-2d02-449e-9212-189beaa1e3aa",
   "metadata": {},
   "outputs": [],
   "source": [
    "excluded_idx = set()\n",
    "for char, ctn in char_cnt.items():\n",
    "  if ctn < 49 and not is_common(char):\n",
    "    excluded_idx.update(char_whe[char])\n",
    "len(excluded_idx)"
   ]
  },
  {
   "cell_type": "code",
   "execution_count": null,
   "id": "fcbbffc8-79c2-414e-a37b-17f4f9146781",
   "metadata": {},
   "outputs": [],
   "source": [
    "farsi_clean = farsi_data.select_columns(\"story\").map(\n",
    "              lambda stories, ids: {'story': [normalize(s) for s, id in zip(stories, ids) if id not in excluded_idx]},\n",
    "              input_columns='story', with_indices=True, batched=True, num_proc=16, new_fingerprint='farsi_clean')"
   ]
  },
  {
   "cell_type": "code",
   "execution_count": null,
   "id": "2ccc4d5e-b8cc-47bf-86bc-176c2f5864d2",
   "metadata": {},
   "outputs": [],
   "source": [
    "df = pd.DataFrame(farsi_clean)\n",
    "df.drop_duplicates(subset='story', inplace=True)\n",
    "print(len(farsi_clean) - len(df))\n",
    "farsi_clean = Dataset.from_pandas(df).select_columns('story')\n",
    "del df"
   ]
  },
  {
   "cell_type": "code",
   "execution_count": null,
   "id": "cb3b246c-7dbc-4dda-88e3-7deb9d311508",
   "metadata": {},
   "outputs": [],
   "source": [
    "farsi_clean.save_to_disk(data_path / 'farsi_clean')"
   ]
  },
  {
   "cell_type": "markdown",
   "id": "5c1d59ef-e49b-44cd-9faa-4584785f6486",
   "metadata": {
    "jp-MarkdownHeadingCollapsed": true
   },
   "source": [
    "## Hindi"
   ]
  },
  {
   "cell_type": "code",
   "execution_count": null,
   "id": "5227444b-4963-4ea9-8cc0-efaed1c32720",
   "metadata": {},
   "outputs": [],
   "source": [
    "hindi_data = load_dataset('vishnu2308/TinyStories-50k-Hindi', cache_dir=str(data_path / 'cache'))\n",
    "hindi_data = hindi_data['train'].rename_column('hindi_text', 'story')"
   ]
  },
  {
   "cell_type": "code",
   "execution_count": null,
   "id": "c5ecb0da-183b-48e4-b647-fecfd3c0a2e7",
   "metadata": {},
   "outputs": [],
   "source": [
    "char_cnt, char_whe = merge_results(hindi_data.select_columns(\"story\").map(examine_charset,\n",
    "              with_indices=True, batched=True, batch_size=20_000, num_proc=16, keep_in_memory=True, remove_columns='story'))"
   ]
  },
  {
   "cell_type": "code",
   "execution_count": null,
   "id": "a0a9d9b4-10ac-4381-8247-12c81fbce2b1",
   "metadata": {
    "scrolled": true
   },
   "outputs": [],
   "source": [
    "{k: (v, unicodedata.name(k, ''), ord(k)) for k, v in char_cnt.most_common()}"
   ]
  },
  {
   "cell_type": "code",
   "execution_count": null,
   "id": "d6e4da70-6207-4227-a452-42aaf1cb515b",
   "metadata": {},
   "outputs": [],
   "source": [
    "excluded_idx = set()\n",
    "for char, ctn in char_cnt.items():\n",
    "  if ctn < 21 and not is_common(char):\n",
    "    excluded_idx.update(char_whe[char])\n",
    "len(excluded_idx)"
   ]
  },
  {
   "cell_type": "code",
   "execution_count": null,
   "id": "4f78f58b-3d13-4360-a405-01b3f9948936",
   "metadata": {},
   "outputs": [],
   "source": [
    "hindi_clean = hindi_data.select_columns(\"story\").map(\n",
    "              lambda stories, ids: {'story': [normalize(s) for s, id in zip(stories, ids) if id not in excluded_idx]},\n",
    "              input_columns='story', with_indices=True, batched=True, num_proc=16, new_fingerprint='hindi_clean')"
   ]
  },
  {
   "cell_type": "code",
   "execution_count": null,
   "id": "c68057d3-9bf3-4d9b-ad3a-d8c0162db4aa",
   "metadata": {},
   "outputs": [],
   "source": [
    "df = pd.DataFrame(hindi_clean)\n",
    "df.drop_duplicates(subset='story', inplace=True)\n",
    "print(len(hindi_clean) - len(df))\n",
    "hindi_clean = Dataset.from_pandas(df).select_columns('story')\n",
    "del df"
   ]
  },
  {
   "cell_type": "code",
   "execution_count": null,
   "id": "dd1ca13f-7e0a-4d1b-867b-7942f8c1dc03",
   "metadata": {},
   "outputs": [],
   "source": [
    "hindi_clean.save_to_disk(data_path / 'hindi_clean')"
   ]
  },
  {
   "cell_type": "markdown",
   "id": "bf97e4ea-66be-418c-bcce-30c20d7be891",
   "metadata": {
    "jp-MarkdownHeadingCollapsed": true
   },
   "source": [
    "## Hebrew"
   ]
  },
  {
   "cell_type": "code",
   "execution_count": null,
   "id": "5c348229-ea20-40a4-b23c-bace97a6abaf",
   "metadata": {},
   "outputs": [],
   "source": [
    "hebrew_data = load_dataset('Norod78/TinyStoriesV2-GPT4-valid_heb-lineByLine-EoT', revision=\"refs/convert/parquet\", cache_dir=str(data_path / 'cache'))\n",
    "hebrew_data = hebrew_data['validation'].rename_column('text', 'story')"
   ]
  },
  {
   "cell_type": "code",
   "execution_count": null,
   "id": "9d413158-b75d-40f2-8efd-ca78ecf75f26",
   "metadata": {},
   "outputs": [],
   "source": [
    "char_cnt, char_whe = merge_results(hebrew_data.select_columns(\"story\").map(examine_charset,\n",
    "              with_indices=True, batched=True, batch_size=20_000, num_proc=16, keep_in_memory=True, remove_columns='story'))"
   ]
  },
  {
   "cell_type": "code",
   "execution_count": null,
   "id": "e4dfbb2b-567c-4116-aefb-61ce513a3462",
   "metadata": {
    "scrolled": true
   },
   "outputs": [],
   "source": [
    "{k: (v, unicodedata.name(k, ''), ord(k)) for k, v in char_cnt.most_common()}"
   ]
  },
  {
   "cell_type": "code",
   "execution_count": null,
   "id": "9bd52901-76fb-49b1-97d4-b24a75da6951",
   "metadata": {},
   "outputs": [],
   "source": [
    "excluded_idx = set()\n",
    "for char, ctn in char_cnt.items():\n",
    "  if ctn < 30 and not is_common(char):\n",
    "    excluded_idx.update(char_whe[char])\n",
    "len(excluded_idx)"
   ]
  },
  {
   "cell_type": "code",
   "execution_count": null,
   "id": "1259d2f4-fe49-4022-bcc0-155e44e6220f",
   "metadata": {},
   "outputs": [],
   "source": [
    "hebrew_clean = hebrew_data.select_columns(\"story\").map(\n",
    "              lambda stories, ids: {'story': [normalize(s) for s, id in zip(stories, ids) if id not in excluded_idx]},\n",
    "              input_columns='story', with_indices=True, batched=True, num_proc=16, new_fingerprint='hebrew_clean')"
   ]
  },
  {
   "cell_type": "code",
   "execution_count": null,
   "id": "797f57f0-b7dd-4ca1-bf6b-85a51b69ed13",
   "metadata": {},
   "outputs": [],
   "source": [
    "df = pd.DataFrame(hebrew_clean)\n",
    "df.drop_duplicates(subset='story', inplace=True)\n",
    "print(len(hebrew_clean) - len(df))\n",
    "hebrew_clean = Dataset.from_pandas(df).select_columns('story')\n",
    "del df"
   ]
  },
  {
   "cell_type": "code",
   "execution_count": null,
   "id": "ff9f1156-c8dc-479e-a40c-8556202361fb",
   "metadata": {},
   "outputs": [],
   "source": [
    "hebrew_clean.save_to_disk(data_path / 'hebrew_clean')"
   ]
  },
  {
   "cell_type": "markdown",
   "id": "ec0a37f2-0e74-4545-8967-adf9435920c3",
   "metadata": {},
   "source": [
    "## Dataset Aggregation"
   ]
  },
  {
   "cell_type": "code",
   "execution_count": null,
   "id": "0b883e63-b9c1-4abb-bee6-01460f8ee65a",
   "metadata": {},
   "outputs": [],
   "source": [
    "languages = ['english', 'spanish', 'chinese', 'turkish', 'arabic', 'vietnamese',\n",
    "             'azerbaijani', 'korean', 'german', 'farsi', 'hindi', 'hebrew']\n",
    "datasets = [load_from_disk(data_path / f'{lang}_clean') for lang in languages]"
   ]
  },
  {
   "cell_type": "code",
   "execution_count": null,
   "id": "afa79226-2c9b-481a-8e40-999e438d4da3",
   "metadata": {
    "scrolled": true
   },
   "outputs": [],
   "source": [
    "for lang, dset in zip(languages, tqdm(datasets)):\n",
    "  dset_split = dset.train_test_split(frac_split(len(dset)), shuffle=True, seed=42)\n",
    "  dset_split.push_to_hub('Gabrui/multilingual_TinyStories', lang, commit_message=f'Add {lang} language')"
   ]
  }
 ],
 "metadata": {
  "kernelspec": {
   "display_name": "Python 3 (ipykernel)",
   "language": "python",
   "name": "python3"
  },
  "language_info": {
   "codemirror_mode": {
    "name": "ipython",
    "version": 3
   },
   "file_extension": ".py",
   "mimetype": "text/x-python",
   "name": "python",
   "nbconvert_exporter": "python",
   "pygments_lexer": "ipython3",
   "version": "3.11.7"
  }
 },
 "nbformat": 4,
 "nbformat_minor": 5
}
